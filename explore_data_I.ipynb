{
 "cells": [
  {
   "cell_type": "code",
   "execution_count": 2,
   "metadata": {
    "collapsed": true
   },
   "outputs": [],
   "source": [
    "import numpy as np\n",
    "import pickle\n",
    "from scipy.io import loadmat\n",
    "from matplotlib import pyplot as plt"
   ]
  },
  {
   "cell_type": "code",
   "execution_count": 3,
   "metadata": {
    "collapsed": true
   },
   "outputs": [],
   "source": [
    "f = open('data/Renders_bw/trials.pkl', 'rb')\n",
    "L = pickle.load(f)\n",
    "f.close()"
   ]
  },
  {
   "cell_type": "code",
   "execution_count": 4,
   "metadata": {
    "collapsed": false
   },
   "outputs": [
    {
     "name": "stdout",
     "output_type": "stream",
     "text": [
      "['position', 'stimPath', 'rotation', 'id', 'size']\n"
     ]
    }
   ],
   "source": [
    "print L[0].keys()"
   ]
  },
  {
   "cell_type": "code",
   "execution_count": 5,
   "metadata": {
    "collapsed": false
   },
   "outputs": [
    {
     "name": "stdout",
     "output_type": "stream",
     "text": [
      "N. of stimuli : 1440\n"
     ]
    }
   ],
   "source": [
    "position = map(lambda l: l['position'], L)\n",
    "stimPath = map(lambda l: l['stimPath'], L)\n",
    "rotation = map(lambda l: l['rotation'], L)\n",
    "index    = map(lambda l: l['id'], L)\n",
    "size     = map(lambda l: l['size'], L)\n",
    "\n",
    "print('N. of stimuli : %d' % ( np.unique(index).shape ) )"
   ]
  },
  {
   "cell_type": "code",
   "execution_count": 6,
   "metadata": {
    "collapsed": false
   },
   "outputs": [],
   "source": [
    "# open Data created with matlab table2array\n",
    "\n",
    "Data = loadmat('data/Renders_bw/Data.mat')\n",
    "Data = Data['A']"
   ]
  },
  {
   "cell_type": "code",
   "execution_count": 7,
   "metadata": {
    "collapsed": false
   },
   "outputs": [
    {
     "name": "stdout",
     "output_type": "stream",
     "text": [
      "N. of neurons : 17\n"
     ]
    }
   ],
   "source": [
    "Neuron          = Data[:,0]\n",
    "Stimulus        = Data[:,1]\n",
    "Count           = Data[:,-2]\n",
    "Significance    = Data[:,-1]\n",
    "\n",
    "num = np.unique(Neuron).shape[0]\n",
    "print('N. of neurons : %d' % ( num ) )"
   ]
  },
  {
   "cell_type": "code",
   "execution_count": 8,
   "metadata": {
    "collapsed": false
   },
   "outputs": [],
   "source": [
    "# create matrix neurons - firing-rates\n",
    "M = Count.reshape( (num, -1) )"
   ]
  },
  {
   "cell_type": "code",
   "execution_count": 50,
   "metadata": {
    "collapsed": false
   },
   "outputs": [
    {
     "name": "stdout",
     "output_type": "stream",
     "text": [
      "Max abs correlation : 0.426564\n"
     ]
    }
   ],
   "source": [
    "# thera are some correlated neurons\n",
    "\n",
    "C = np.corrcoef(M) - np.eye(num)\n",
    "print('Max abs correlation : %g' % (max(abs(C.flatten()   )))  )\n",
    "\n",
    "\n",
    "# ordered coefficients\n",
    "\n",
    "c = C[np.triu_indices(num)].flatten()\n",
    "c[::-1].sort()\n",
    "\n",
    "plt.figure()\n",
    "plt.plot(c, '--bo')\n",
    "plt.show()\n",
    "\n",
    "\n",
    "# matrix \n",
    "\n",
    "plt.figure()\n",
    "plt.imshow(C,interpolation='none')\n",
    "plt.colorbar\n",
    "plt.show()\n"
   ]
  }
 ],
 "metadata": {
  "kernelspec": {
   "display_name": "Python 2",
   "language": "python",
   "name": "python2"
  },
  "language_info": {
   "codemirror_mode": {
    "name": "ipython",
    "version": 2
   },
   "file_extension": ".py",
   "mimetype": "text/x-python",
   "name": "python",
   "nbconvert_exporter": "python",
   "pygments_lexer": "ipython2",
   "version": "2.7.12"
  }
 },
 "nbformat": 4,
 "nbformat_minor": 0
}
